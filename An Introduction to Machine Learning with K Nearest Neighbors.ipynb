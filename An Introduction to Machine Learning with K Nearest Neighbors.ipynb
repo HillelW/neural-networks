{
 "cells": [
  {
   "cell_type": "markdown",
   "id": "1f5d0508",
   "metadata": {},
   "source": [
    "# An Introduction to Machine Learning with K Nearest Neighbors\n",
    "\n",
    "## Goal of Machine Learning\n",
    "\n",
    "Given a dataset partitioned into an *instance matrix* and a * target vector*, the goal of machine learning is to predict what the target should be for an instance not included in the initial instance matrix. In the context of machine learning, a learned function is called a *model*.\n",
    "\n",
    "## Splitting a Dataset into a Training Set and a Test Set\n",
    "\n",
    "After we train a model on a given dataset, we need to test how well the model works. If we use our entire dataset for training, then we won't have any rows left for testing. One way to avoid using up all of our data on training is to split the initial dataset into a *training set* and a *test set*.\n",
    "\n",
    "The training dataset is used by the machine learning algorithm to train the model. The test\n",
    "dataset is deliberately left out of the training process and is used to evaluate the performance of the learned model after training has completed. The rows assigned to the training and test sets are selected randomly to avoid biases in how the data is partitioned.\n",
    "\n",
    "\n",
    "We can implement a function that randomly partitions a dataset into a training set and test set using pandas as follows:"
   ]
  },
  {
   "cell_type": "code",
   "execution_count": 200,
   "id": "c63382b4",
   "metadata": {},
   "outputs": [
    {
     "name": "stdout",
     "output_type": "stream",
     "text": [
      "training set:\n",
      "   Feature 1  Feature 2  Label\n",
      "0          1          2      0\n",
      "2          5          6      0\n",
      "3          7          8      0\n",
      "4          9         10      0\n",
      "\n",
      "test set:\n",
      "   Feature 1  Feature 2  Label\n",
      "1          3          4      0\n"
     ]
    }
   ],
   "source": [
    "import numpy as np\n",
    "import pandas as pd\n",
    "\n",
    "\n",
    "def get_train_and_test(df, p=0.8):\n",
    "    '''\n",
    "       given a dataframe, returns a training set and a test set where p percent of the initial data\n",
    "       frame is allocated to training data and 1 - p percent of the initial data is allocated to\n",
    "       test data.\n",
    "    '''\n",
    "    boolean_mask = np.random.rand(len(df)) < 0.8\n",
    "    train = df[boolean_mask]\n",
    "    test = df[~boolean_mask]\n",
    "    return train, test\n",
    "\n",
    "# exercise above function\n",
    "data = [\n",
    "    [1, 2 ,0],\n",
    "    [3, 4 ,0],\n",
    "    [5, 6 ,0],\n",
    "    [7, 8 ,0],\n",
    "    [9, 10 ,0]\n",
    "]\n",
    "\n",
    "# initialize data frame from above list of lists\n",
    "df = pd.DataFrame(data, columns=['Feature 1', 'Feature 2', 'Label'])\n",
    "train, test = get_train_and_test(df)\n",
    "\n",
    "print('training set:')\n",
    "print(train)\n",
    "print('\\ntest set:')\n",
    "print(test)"
   ]
  },
  {
   "cell_type": "markdown",
   "id": "73cb5470",
   "metadata": {},
   "source": [
    "An even easier way to split a dataset into a training set and a test set is as follows:"
   ]
  },
  {
   "cell_type": "code",
   "execution_count": 201,
   "id": "5edc7bab",
   "metadata": {},
   "outputs": [
    {
     "name": "stdout",
     "output_type": "stream",
     "text": [
      "training set:\n",
      "   Feature 1  Feature 2  Label\n",
      "0          1          2      0\n",
      "1          3          4      0\n",
      "2          5          6      0\n",
      "4          9         10      0\n",
      "\n",
      "test set:\n",
      "   Feature 1  Feature 2  Label\n",
      "3          7          8      0\n"
     ]
    }
   ],
   "source": [
    "from sklearn.model_selection import train_test_split\n",
    "\n",
    "\n",
    "train, test = train_test_split(df, test_size=0.2)\n",
    "\n",
    "print('training set:')\n",
    "print(train)\n",
    "print('\\ntest set:')\n",
    "print(test)"
   ]
  },
  {
   "cell_type": "markdown",
   "id": "35bc9f78",
   "metadata": {},
   "source": [
    "For reproducibility, we can set the random seed so that we get the same split each time:"
   ]
  },
  {
   "cell_type": "code",
   "execution_count": 202,
   "id": "528ab1dc",
   "metadata": {},
   "outputs": [
    {
     "name": "stdout",
     "output_type": "stream",
     "text": [
      "training set:\n",
      "   Feature 1  Feature 2  Label\n",
      "1          3          4      0\n",
      "4          9         10      0\n",
      "0          1          2      0\n",
      "3          7          8      0\n",
      "\n",
      "test set:\n",
      "   Feature 1  Feature 2  Label\n",
      "2          5          6      0\n"
     ]
    }
   ],
   "source": [
    "np.random.seed(1)\n",
    "\n",
    "train, test = train_test_split(df, test_size=0.2)\n",
    "\n",
    "print('training set:')\n",
    "print(train)\n",
    "print('\\ntest set:')\n",
    "print(test)"
   ]
  },
  {
   "cell_type": "markdown",
   "id": "a46f5721",
   "metadata": {},
   "source": [
    "## Evaluation Metrics\n",
    "\n",
    "When we run a model on the inputs in a test set, we obtain a predicted output, which we can then compare to the actual output associated with the same row in the test set. We use an *evaluation metric* to measure how well a model perofrms on a given test set.\n",
    "\n",
    "One simple way of evaluating the performance of a model is to divide the correct number of predictions by the total number of predictions, and then multiply by 100 to obtain an accuracy percentage. An accuraccy function can be implemented as follows:"
   ]
  },
  {
   "cell_type": "code",
   "execution_count": 203,
   "id": "ae9c35d4",
   "metadata": {},
   "outputs": [
    {
     "name": "stdout",
     "output_type": "stream",
     "text": [
      "Test Data Frame:\n",
      "   Actual  Predicted\n",
      "0       0          0\n",
      "1       0          1\n",
      "2       0          0\n",
      "3       0          0\n",
      "4       0          0\n",
      "5       1          1\n",
      "6       1          0\n",
      "7       1          1\n",
      "8       1          1\n",
      "9       1          1\n",
      "\n",
      "The accuracy of the model's prediction is: 0.8\n"
     ]
    }
   ],
   "source": [
    "\n",
    "\n",
    "test_data = [\n",
    "    [0 ,0],\n",
    "    [0, 1],\n",
    "    [0, 0],\n",
    "    [0, 0],\n",
    "    [0, 0],\n",
    "    [1, 1],\n",
    "    [1, 0],\n",
    "    [1, 1],\n",
    "    [1, 1],\n",
    "    [1, 1],\n",
    "]\n",
    "\n",
    "# initialize data frame from above list of lists\n",
    "df_test = pd.DataFrame(test_data, columns=['Actual', 'Predicted'])\n",
    "\n",
    "print ('Test Data Frame:')\n",
    "print (df_test)\n",
    "\n",
    "def get_accuracy(df):\n",
    "    '''\n",
    "       given a data frame whose first column contains correct values \n",
    "       and whose second column contains predicted values, returns\n",
    "       the accuracy associated with the model that generated the predictions.\n",
    "    '''\n",
    "    actual = df['Actual']\n",
    "    predicted = df['Predicted']\n",
    "    \n",
    "    correct = 0\n",
    "    for index, row in df.iterrows():\n",
    "        actual_value = row['Actual']\n",
    "        predicted_value = row['Predicted']\n",
    "        if actual_value == predicted_value:\n",
    "            correct += 1\n",
    "    return correct / float(len(actual)) \n",
    "\n",
    "accuracy = get_accuracy(df_test)\n",
    "print (\"\\nThe accuracy of the model's prediction is:\", accuracy)"
   ]
  },
  {
   "cell_type": "markdown",
   "id": "db87d86e",
   "metadata": {},
   "source": [
    "We can also measure the accuracy more easily as follows:"
   ]
  },
  {
   "cell_type": "code",
   "execution_count": 204,
   "id": "5ae80722",
   "metadata": {},
   "outputs": [
    {
     "name": "stdout",
     "output_type": "stream",
     "text": [
      "The accuracy of the model's prediction is: 0.8\n"
     ]
    }
   ],
   "source": [
    "from sklearn.metrics import accuracy_score\n",
    "\n",
    "actual = df_test['Actual']\n",
    "predicted = df_test['Predicted']\n",
    "\n",
    "# find accuracy scores\n",
    "accuracy = accuracy_score(actual, predicted)\n",
    "print(\"The accuracy of the model's prediction is:\", accuracy)"
   ]
  },
  {
   "cell_type": "markdown",
   "id": "4484c7d2",
   "metadata": {},
   "source": [
    "In the case of a two-class prediction problem, we can see in detail how a given model performs using a confusion matrix. The confusion matrix shows us at a glance the number of:\n",
    "\n",
    "1. true positives for correctly predicted event values.\n",
    "2. false positives for incorrectly predicted event values.\n",
    "3. true negatives for correctly predicted no-event values.\n",
    "4. false negatives for incorrectly predicted no-event values.\n",
    "\n",
    "The confusion matrix adopts the convention that rows correspond to predicted values and columns correspond to actual values. Suppose we have a two-class classification problem which requires predicting whether a given row in the dataset corresponds to a man or a woman. We can see how a confusion matrix works for this example as follows:"
   ]
  },
  {
   "cell_type": "code",
   "execution_count": 205,
   "id": "ef635da4",
   "metadata": {},
   "outputs": [
    {
     "name": "stdout",
     "output_type": "stream",
     "text": [
      "Test Data Frame:\n",
      "  Actual Predicted\n",
      "0    man     woman\n",
      "1    man       man\n",
      "2  woman     woman\n",
      "3    man       man\n",
      "4  woman       man\n",
      "5  woman     woman\n",
      "6  woman     woman\n",
      "7    man       man\n",
      "8    man     woman\n",
      "9  woman     woman\n",
      "\n",
      "Cofusion Matrix\n",
      " Predicted  man  woman\n",
      "Actual               \n",
      "man          3      2\n",
      "woman        1      4\n"
     ]
    }
   ],
   "source": [
    "def get_confusion_matrix(actual, predicted):\n",
    "    num_classes = len(actual.unique())\n",
    "    result = pd.DataFrame(0, index=np.arange(len(data)), columns=feature_list)\n",
    "    result = np.zeros((K, K))\n",
    "\n",
    "    for i in range(len(true)):\n",
    "        result[true[i]][pred[i]] += 1\n",
    "    return result\n",
    "\n",
    "test_data = [\n",
    "    ['man', 'woman'],\n",
    "    ['man', 'man'],\n",
    "    ['woman', 'woman'],\n",
    "    ['man', 'man'],\n",
    "    ['woman', 'man'],\n",
    "    ['woman', 'woman'],\n",
    "    ['woman', 'woman'],\n",
    "    ['man', 'man'],\n",
    "    ['man', 'woman'],\n",
    "    ['woman', 'woman']\n",
    "]\n",
    "\n",
    "# initialize data frame from above list of lists\n",
    "df_test = pd.DataFrame(test_data, columns=['Actual', 'Predicted'])\n",
    "\n",
    "print ('Test Data Frame:')\n",
    "print (df_test)\n",
    "\n",
    "actual = df_test['Actual']\n",
    "predicted = df_test['Predicted']\n",
    "\n",
    "print ('\\nCofusion Matrix\\n', pd.crosstab(actual, predicted))"
   ]
  },
  {
   "cell_type": "markdown",
   "id": "62fc217a",
   "metadata": {},
   "source": [
    "The above confusion matrix tells us that: \n",
    "\n",
    "1. in 3 rows, the man target was predicted correctly.\n",
    "2. In 4 rows the woman label was predicted correctly.\n",
    "3. In 1 row a man was incorrectly labeled as a woman.\n",
    "4. In 2 rows a woman was incorrectly labeled as a man."
   ]
  },
  {
   "cell_type": "markdown",
   "id": "547a4ddc",
   "metadata": {},
   "source": [
    "# K Nearest Neighbors\n",
    "\n",
    "K nearest neighbors is an algorihtm that can classify an unseen input as follows:\n",
    "\n",
    "- For each instance *i* in the instance training matrix:\n",
    "    1. compute the distance between *i* and the unseen input\n",
    "    2. collect the distances into a list\n",
    "    3. sort the list of distances select k instances with the shortest distance to the unseen input  (i.e. find the nearest neighbors)\n",
    "    4. find the majority target among the k closes instances\n",
    "    5. return the majority as the predicted target corresponding to the unseen input\n",
    "    \n",
    "To see how k nearest neighbors works, we'll use the following toy data set:"
   ]
  },
  {
   "cell_type": "code",
   "execution_count": 206,
   "id": "01d8ca18",
   "metadata": {},
   "outputs": [
    {
     "name": "stdout",
     "output_type": "stream",
     "text": [
      "   Feature 1  Feature 2  Label\n",
      "0   2.781084   2.550537      0\n",
      "1   1.465489   2.362125      0\n",
      "2   3.396562   4.400294      0\n",
      "3   1.388070   1.850220      0\n",
      "4   3.064072   3.005306      0\n",
      "5   7.627531   2.759262      1\n",
      "6   5.332441   2.088627      1\n",
      "7   6.922597   1.771064      1\n",
      "8   8.675419  -0.242069      1\n",
      "9   7.673756   3.508563      1\n"
     ]
    }
   ],
   "source": [
    "data = [\n",
    "    [2.7810836,2.550537003,0],\n",
    "    [1.465489372,2.362125076,0],\n",
    "    [3.396561688,4.400293529,0],\n",
    "    [1.38807019,1.850220317,0],\n",
    "    [3.06407232,3.005305973,0],\n",
    "    [7.627531214,2.759262235,1],\n",
    "    [5.332441248,2.088626775,1],\n",
    "    [6.922596716,1.77106367,1],\n",
    "    [8.675418651,-0.242068655,1],\n",
    "    [7.673756466,3.508563011,1]\n",
    "]\n",
    "\n",
    "# initialize data frame from above list of lists\n",
    "df = pd.DataFrame(data, columns=['Feature 1', 'Feature 2', 'Label'])\n",
    "\n",
    "# show data frame\n",
    "print(df)"
   ]
  },
  {
   "cell_type": "markdown",
   "id": "47ed14d6",
   "metadata": {},
   "source": [
    "From the perspective of machine learning, our goal is to learn a function that can predict whether or not a given instance of the form (feature 1, feature 2) should be associated with a label of 0 or 1.\n",
    "\n",
    "Towards this end, we split out the instances into a matrix which we call **X**, and the labels into a vector which we call **Y**:"
   ]
  },
  {
   "cell_type": "code",
   "execution_count": 207,
   "id": "0afbf35f",
   "metadata": {},
   "outputs": [
    {
     "name": "stdout",
     "output_type": "stream",
     "text": [
      "Instance Matrix:\n",
      "   Feature 1  Feature 2\n",
      "0   2.781084   2.550537\n",
      "1   1.465489   2.362125\n",
      "2   3.396562   4.400294\n",
      "3   1.388070   1.850220\n",
      "4   3.064072   3.005306\n",
      "5   7.627531   2.759262\n",
      "6   5.332441   2.088627\n",
      "7   6.922597   1.771064\n",
      "8   8.675419  -0.242069\n",
      "9   7.673756   3.508563\n",
      "\n",
      "Label Vector:\n",
      "0    0\n",
      "1    0\n",
      "2    0\n",
      "3    0\n",
      "4    0\n",
      "5    1\n",
      "6    1\n",
      "7    1\n",
      "8    1\n",
      "9    1\n",
      "Name: Label, dtype: int64\n"
     ]
    }
   ],
   "source": [
    "# remove the last column\n",
    "X = df.drop('Label', axis=1)\n",
    "\n",
    "# project out the last column \n",
    "Y = df['Label']\n",
    "\n",
    "# show instance matrix and label vector\n",
    "print('Instance Matrix:')\n",
    "print(X)\n",
    "print('\\nLabel Vector:')\n",
    "print(Y)"
   ]
  },
  {
   "cell_type": "markdown",
   "id": "b5d4b4d9",
   "metadata": {},
   "source": [
    "Notice that the above instance matrix is of type DataFrame, and the label vector is of type Series.\n",
    "\n",
    "Now that we have an instance matrix and a target vector, we define a function that computes the distance between two instances with equal numbers of attributes:"
   ]
  },
  {
   "cell_type": "code",
   "execution_count": 208,
   "id": "3419839c",
   "metadata": {},
   "outputs": [],
   "source": [
    "# compute euclidean distance between two instances\n",
    "def euclidean_distance(instance_1, instance_2):\n",
    "    '''returns the standard euclidean distance between two instances'''\n",
    "    distance = 0.0\n",
    "    for column in X.columns:\n",
    "        distance += (instance_1[column] - instance_2[column]) ** 2\n",
    "    return np.sqrt(distance)"
   ]
  },
  {
   "cell_type": "markdown",
   "id": "c1fe802d",
   "metadata": {},
   "source": [
    "We can leverage the above distance function to compute the distance between a given test point and all rows of our instance matrix:"
   ]
  },
  {
   "cell_type": "code",
   "execution_count": 209,
   "id": "11b29653",
   "metadata": {},
   "outputs": [],
   "source": [
    "def get_distances(instances, test_point):\n",
    "    '''returns a Data Frame containing the distance of a test point from all instances'''\n",
    "    # accumulate distances here\n",
    "    distances = []\n",
    "\n",
    "    # for each instance, compute distance to test point\n",
    "    for i in instances.index:\n",
    "        distances.append(euclidean_distance(instances.iloc[i], test_point))\n",
    "\n",
    "    df_dists = pd.DataFrame(data=distances, index=X.index, columns=['distance'], dtype='float64')\n",
    "    return df_dists"
   ]
  },
  {
   "cell_type": "markdown",
   "id": "b18a2b9a",
   "metadata": {},
   "source": [
    "As an example, we can compute the euclidean distance between the first row of our instance matrix an all other rows of our instance matrix:"
   ]
  },
  {
   "cell_type": "code",
   "execution_count": 210,
   "id": "fa3fa823",
   "metadata": {},
   "outputs": [
    {
     "name": "stdout",
     "output_type": "stream",
     "text": [
      "   distance\n",
      "0  0.000000\n",
      "1  1.329017\n",
      "2  1.949465\n",
      "3  1.559144\n",
      "4  0.535628\n",
      "5  4.850940\n",
      "6  2.592834\n",
      "7  4.214227\n",
      "8  6.522410\n",
      "9  4.985585\n"
     ]
    }
   ],
   "source": [
    "# extract first instance from instance matrix\n",
    "test_point = X.iloc[0]\n",
    "distances = get_distances(X, test_point)\n",
    "print (distances)"
   ]
  },
  {
   "cell_type": "markdown",
   "id": "0a0623de",
   "metadata": {},
   "source": [
    "Notice that the distance from the first instance to itself is 0, as it should be.\n",
    "\n",
    "It turns out that we can define a more general distance function called *minkowski distance, which includes euclidean distance as a special case:"
   ]
  },
  {
   "cell_type": "code",
   "execution_count": 211,
   "id": "f0517296",
   "metadata": {},
   "outputs": [],
   "source": [
    "def minkowski_distance(instance_1, instance_2, p=2):\n",
    "    '''returns the euclidean distance when p = 2'''    \n",
    "    distance = 0.0\n",
    "    for column in X.columns:\n",
    "        distance += np.absolute(instance_1[column] - instance_2[column]) ** p\n",
    "    return np.power(distance, 1/p)"
   ]
  },
  {
   "cell_type": "markdown",
   "id": "78857b01",
   "metadata": {},
   "source": [
    "We can define a more general function to obtain the list of distances that leverages our minkowski distance function by including an additional parameter *p*:"
   ]
  },
  {
   "cell_type": "code",
   "execution_count": 212,
   "id": "f0fc6914",
   "metadata": {},
   "outputs": [],
   "source": [
    "def get_distances(instances, test_point, p=2):\n",
    "    '''returns a Data Frame containing the distance of a test point from all instances'''\n",
    "    # accumulate distances here\n",
    "    distances = []\n",
    "\n",
    "    # for each instance, compute distance to test point\n",
    "    for i in instances.index:\n",
    "        distances.append(minkowski_distance(instances.iloc[i], test_point, 2))\n",
    "\n",
    "    df_dists = pd.DataFrame(data=distances, index=X.index, columns=['distance'], dtype='float64')\n",
    "    return df_dists"
   ]
  },
  {
   "cell_type": "markdown",
   "id": "ff82d284",
   "metadata": {},
   "source": [
    "Notice that for our example, we get the same distances when we use the minkowski distance function and set *p* = 2:"
   ]
  },
  {
   "cell_type": "code",
   "execution_count": 213,
   "id": "b92f9eb6",
   "metadata": {},
   "outputs": [
    {
     "name": "stdout",
     "output_type": "stream",
     "text": [
      "   distance\n",
      "0  0.000000\n",
      "1  1.329017\n",
      "2  1.949465\n",
      "3  1.559144\n",
      "4  0.535628\n",
      "5  4.850940\n",
      "6  2.592834\n",
      "7  4.214227\n",
      "8  6.522410\n",
      "9  4.985585\n"
     ]
    }
   ],
   "source": [
    "# extract first instance from instance matrix\n",
    "test_point = X.iloc[0]\n",
    "# compute list of distances\n",
    "distances = get_distances(X, test_point, p=2)\n",
    "print (distances)"
   ]
  },
  {
   "cell_type": "markdown",
   "id": "ca599ba7",
   "metadata": {},
   "source": [
    "Now that we know how to compute a list of distances for a given test point, we can sort the list of distances without losing information about which distance is associated with which instance using the following function:"
   ]
  },
  {
   "cell_type": "code",
   "execution_count": 214,
   "id": "9ac4ac44",
   "metadata": {},
   "outputs": [],
   "source": [
    "def get_k_nearest_distances(distances, k: int):\n",
    "    '''\n",
    "       given a data frame of distances and a number k of nearest neighbors to find, \n",
    "       returns a data frame containing distances associated with the k nearest neighbors\n",
    "       to the test point which was used to generate the data frame of distances initially.\n",
    "    '''\n",
    "    df_knn = distances.sort_values(by=['distance'], axis=0)[:k]\n",
    "    return df_knn"
   ]
  },
  {
   "cell_type": "markdown",
   "id": "9f5948c7",
   "metadata": {},
   "source": [
    "For example, to obtain the list of 5 nearest distances for our example, we can run:"
   ]
  },
  {
   "cell_type": "code",
   "execution_count": 215,
   "id": "e9a86d75",
   "metadata": {},
   "outputs": [
    {
     "data": {
      "text/html": [
       "<div>\n",
       "<style scoped>\n",
       "    .dataframe tbody tr th:only-of-type {\n",
       "        vertical-align: middle;\n",
       "    }\n",
       "\n",
       "    .dataframe tbody tr th {\n",
       "        vertical-align: top;\n",
       "    }\n",
       "\n",
       "    .dataframe thead th {\n",
       "        text-align: right;\n",
       "    }\n",
       "</style>\n",
       "<table border=\"1\" class=\"dataframe\">\n",
       "  <thead>\n",
       "    <tr style=\"text-align: right;\">\n",
       "      <th></th>\n",
       "      <th>distance</th>\n",
       "    </tr>\n",
       "  </thead>\n",
       "  <tbody>\n",
       "    <tr>\n",
       "      <th>0</th>\n",
       "      <td>0.000000</td>\n",
       "    </tr>\n",
       "    <tr>\n",
       "      <th>4</th>\n",
       "      <td>0.535628</td>\n",
       "    </tr>\n",
       "    <tr>\n",
       "      <th>1</th>\n",
       "      <td>1.329017</td>\n",
       "    </tr>\n",
       "    <tr>\n",
       "      <th>3</th>\n",
       "      <td>1.559144</td>\n",
       "    </tr>\n",
       "    <tr>\n",
       "      <th>2</th>\n",
       "      <td>1.949465</td>\n",
       "    </tr>\n",
       "  </tbody>\n",
       "</table>\n",
       "</div>"
      ],
      "text/plain": [
       "   distance\n",
       "0  0.000000\n",
       "4  0.535628\n",
       "1  1.329017\n",
       "3  1.559144\n",
       "2  1.949465"
      ]
     },
     "execution_count": 215,
     "metadata": {},
     "output_type": "execute_result"
    }
   ],
   "source": [
    "k_nearest_distances = get_k_nearest_distances(distances, 5)\n",
    "k_nearest_distances"
   ]
  },
  {
   "cell_type": "markdown",
   "id": "38a6c484",
   "metadata": {},
   "source": [
    "Notice that the index of each distance corresponds to the row index of the associated instance. We can therefore compute the list of nearest neighbors as follows:"
   ]
  },
  {
   "cell_type": "code",
   "execution_count": 216,
   "id": "df5c2ece",
   "metadata": {},
   "outputs": [],
   "source": [
    "def get_k_nearest_neighbors(df, distances):\n",
    "    '''given a dataset and distance data frames, returns a data frame of the k nearest instances.'''\n",
    "    return df.iloc[distances.index]"
   ]
  },
  {
   "cell_type": "markdown",
   "id": "466acee8",
   "metadata": {},
   "source": [
    "Using the above function, we can see the 5 closes instances for our example:"
   ]
  },
  {
   "cell_type": "code",
   "execution_count": 217,
   "id": "62e031e3",
   "metadata": {},
   "outputs": [
    {
     "name": "stdout",
     "output_type": "stream",
     "text": [
      "   Feature 1  Feature 2  Label\n",
      "0   2.781084   2.550537      0\n",
      "4   3.064072   3.005306      0\n",
      "1   1.465489   2.362125      0\n",
      "3   1.388070   1.850220      0\n",
      "2   3.396562   4.400294      0\n"
     ]
    }
   ],
   "source": [
    "print(get_k_nearest_neighbors(df, k_nearest_distances))"
   ]
  },
  {
   "cell_type": "markdown",
   "id": "56f2dbf4",
   "metadata": {},
   "source": [
    "Given a list of the k nearest instances, we can compute the majority label as follows:"
   ]
  },
  {
   "cell_type": "code",
   "execution_count": 218,
   "id": "de1bdb8a",
   "metadata": {},
   "outputs": [
    {
     "data": {
      "text/plain": [
       "0"
      ]
     },
     "execution_count": 218,
     "metadata": {},
     "output_type": "execute_result"
    }
   ],
   "source": [
    "from collections import Counter\n",
    "\n",
    "def get_majority(nearest_instances):\n",
    "    '''\n",
    "       given a data frame of instances, returns the majority label associated with those instances.\n",
    "    '''\n",
    "    labels = nearest_instances['Label']\n",
    "\n",
    "    counter = Counter(labels)\n",
    "    majority = counter.most_common()[0][0]\n",
    "    return majority\n",
    "\n",
    "nearest_instances = get_k_nearest_neighbors(df, k_nearest_distances)\n",
    "get_majority(nearest_instances)"
   ]
  },
  {
   "cell_type": "markdown",
   "id": "0cc924c9",
   "metadata": {},
   "source": [
    "The above tells us that the majority label in this case is 0. We can now wrap up all of this complexity into one function:"
   ]
  },
  {
   "cell_type": "code",
   "execution_count": 219,
   "id": "fd3a8d33",
   "metadata": {},
   "outputs": [
    {
     "data": {
      "text/plain": [
       "0"
      ]
     },
     "execution_count": 219,
     "metadata": {},
     "output_type": "execute_result"
    }
   ],
   "source": [
    "def get_label_from_k_nearest_neighbors(df, test_point, k=5, p=2) -> int:\n",
    "    '''\n",
    "       given a data frame representing a dataset and a test point to be classified\n",
    "       into one of two categoies, returns the category into which the test point should\n",
    "       be classified.\n",
    "    '''\n",
    "    # remove the last column to obtain instance matrix\n",
    "    X = df.drop('Label', axis=1)\n",
    "    \n",
    "    distances = get_distances(X, test_point, p=p)\n",
    "    k_nearest_distances = get_k_nearest_distances(distances, k)\n",
    "    k_nearest_neighbors = get_k_nearest_neighbors(df, k_nearest_distances)\n",
    "    majority = get_majority (k_nearest_neighbors)\n",
    "    return majority\n",
    "\n",
    "# exercise above function\n",
    "test_point = pd.Series([2.781084, 2.550537], index=['Feature 1', 'Feature 2'])\n",
    "get_label_from_k_nearest_neighbors(df, test_point)"
   ]
  },
  {
   "cell_type": "markdown",
   "id": "efe5ef28",
   "metadata": {},
   "source": [
    "We can train and use a knn model more easily as follows:"
   ]
  },
  {
   "cell_type": "code",
   "execution_count": 220,
   "id": "39eb3e73",
   "metadata": {},
   "outputs": [
    {
     "data": {
      "text/plain": [
       "array([0, 0, 0, 0, 0, 1, 1, 1, 1, 1])"
      ]
     },
     "execution_count": 220,
     "metadata": {},
     "output_type": "execute_result"
    }
   ],
   "source": [
    "from sklearn.neighbors import KNeighborsClassifier\n",
    "\n",
    "classifier = KNeighborsClassifier(n_neighbors=5)\n",
    "classifier.fit(X, Y)\n",
    "classifier.predict(X)"
   ]
  }
 ],
 "metadata": {
  "kernelspec": {
   "display_name": "Python 3",
   "language": "python",
   "name": "python3"
  },
  "language_info": {
   "codemirror_mode": {
    "name": "ipython",
    "version": 3
   },
   "file_extension": ".py",
   "mimetype": "text/x-python",
   "name": "python",
   "nbconvert_exporter": "python",
   "pygments_lexer": "ipython3",
   "version": "3.9.1"
  }
 },
 "nbformat": 4,
 "nbformat_minor": 5
}
